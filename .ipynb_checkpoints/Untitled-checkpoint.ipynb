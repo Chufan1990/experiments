{
 "cells": [
  {
   "cell_type": "code",
   "execution_count": 1,
   "id": "cd256aee",
   "metadata": {},
   "outputs": [],
   "source": [
    "import re"
   ]
  },
  {
   "cell_type": "code",
   "execution_count": null,
   "id": "46df0a01",
   "metadata": {},
   "outputs": [],
   "source": [
    "a = \"1234avbsddsd0890()&().txt_*)*(()*).txt\""
   ]
  }
 ],
 "metadata": {
  "kernelspec": {
   "display_name": "adlab",
   "language": "python",
   "name": "adlab"
  },
  "language_info": {
   "codemirror_mode": {
    "name": "ipython",
    "version": 3
   },
   "file_extension": ".py",
   "mimetype": "text/x-python",
   "name": "python",
   "nbconvert_exporter": "python",
   "pygments_lexer": "ipython3",
   "version": "3.9.15"
  }
 },
 "nbformat": 4,
 "nbformat_minor": 5
}
